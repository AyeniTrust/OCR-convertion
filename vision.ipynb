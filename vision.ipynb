{
 "metadata": {
  "language_info": {
   "codemirror_mode": {
    "name": "ipython",
    "version": 3
   },
   "file_extension": ".py",
   "mimetype": "text/x-python",
   "name": "python",
   "nbconvert_exporter": "python",
   "pygments_lexer": "ipython3",
   "version": "3.8.3"
  },
  "orig_nbformat": 2,
  "kernelspec": {
   "name": "python383jvsc74a57bd0c95621fb9ecba08cad45a761c432f6b8be3e29f2ee53ed819ce24d96e954dcbf",
   "display_name": "Python 3.8.3 64-bit ('base': conda)"
  }
 },
 "nbformat": 4,
 "nbformat_minor": 2,
 "cells": [
  {
   "cell_type": "code",
   "execution_count": 3,
   "metadata": {},
   "outputs": [
    {
     "output_type": "stream",
     "name": "stderr",
     "text": [
      "Exception in Tkinter callback\nTraceback (most recent call last):\n  File \"C:\\Users\\Anonymix\\anaconda3\\lib\\tkinter\\__init__.py\", line 1883, in __call__\n    return self.func(*args)\n  File \"<ipython-input-3-071c1b392a1a>\", line 63, in SelectExcelCallBack\n    data = pd.read_excel(file, engine='openpyxl')\n  File \"C:\\Users\\Anonymix\\anaconda3\\lib\\site-packages\\pandas\\io\\excel\\_base.py\", line 304, in read_excel\n    io = ExcelFile(io, engine=engine)\n  File \"C:\\Users\\Anonymix\\anaconda3\\lib\\site-packages\\pandas\\io\\excel\\_base.py\", line 824, in __init__\n    self._reader = self._engines[engine](self._io)\n  File \"C:\\Users\\Anonymix\\anaconda3\\lib\\site-packages\\pandas\\io\\excel\\_openpyxl.py\", line 485, in __init__\n    super().__init__(filepath_or_buffer)\n  File \"C:\\Users\\Anonymix\\anaconda3\\lib\\site-packages\\pandas\\io\\excel\\_base.py\", line 353, in __init__\n    self.book = self.load_workbook(filepath_or_buffer)\n  File \"C:\\Users\\Anonymix\\anaconda3\\lib\\site-packages\\pandas\\io\\excel\\_openpyxl.py\", line 496, in load_workbook\n    return load_workbook(\n  File \"C:\\Users\\Anonymix\\anaconda3\\lib\\site-packages\\openpyxl\\reader\\excel.py\", line 313, in load_workbook\n    reader = ExcelReader(filename, read_only, keep_vba,\n  File \"C:\\Users\\Anonymix\\anaconda3\\lib\\site-packages\\openpyxl\\reader\\excel.py\", line 124, in __init__\n    self.archive = _validate_archive(fn)\n  File \"C:\\Users\\Anonymix\\anaconda3\\lib\\site-packages\\openpyxl\\reader\\excel.py\", line 94, in _validate_archive\n    raise InvalidFileException(msg)\nopenpyxl.utils.exceptions.InvalidFileException: openpyxl does not support  file format, please check you can open it with Excel first. Supported formats are: .xlsx,.xlsm,.xltx,.xltm\n"
     ]
    }
   ],
   "source": [
    "import os\n",
    "import pytesseract as tess\n",
    "import tkinter as tk\n",
    "from tkinter import filedialog, StringVar, IntVar\n",
    "import pandas as pd\n",
    "from PIL import Image, ImageTk, ImageOps\n",
    "\n",
    "desktop = os.path.join(os.path.join(os.path.expanduser('~')), 'Desktop')\n",
    "tess.pytesseract.tesseract_cmd = r'C:\\Program Files\\Tesseract-OCR\\tesseract.exe'\n",
    "root = tk.Tk()\n",
    "\n",
    "canvas = tk.Canvas(root, width=600, height=200)\n",
    "canvas.grid(column=3, row=6)\n",
    "Names = \"\"\n",
    "data = \"\"\n",
    "Attandees = []\n",
    "\n",
    "\n",
    "def checkAttandance():\n",
    "    present = []\n",
    "    p1 = 0\n",
    "    for index, row in Names.iterrows():\n",
    "        yes = False\n",
    "        name = row['NAME']\n",
    "        name = name.lower()\n",
    "        for i in Attandees:\n",
    "            if i in name or name in i:\n",
    "                p1 += 1\n",
    "                present.append(\"P\")\n",
    "                yes = True\n",
    "                break\n",
    "            else:\n",
    "                if i := i.replace('g', 'q'):\n",
    "                    if i in name or name in i:\n",
    "                        print(i)\n",
    "                        p1 += 1\n",
    "                        present.append(\"P\")\n",
    "                        yes = True\n",
    "                        break\n",
    "        if not yes:\n",
    "            present.append(\"A\")\n",
    "\n",
    "    print(f\"Present Students: {p1}\")\n",
    "    return present\n",
    "\n",
    "\n",
    "def convertImagesToText(files):\n",
    "    files = root.tk.splitlist(files)\n",
    "    text = []\n",
    "    for i in files:\n",
    "        img = Image.open(i)\n",
    "        gray_image = ImageOps.grayscale(img)\n",
    "        # gray_image.show()\n",
    "        text.append(tess.image_to_string(gray_image).splitlines())\n",
    "    return text\n",
    "\n",
    "\n",
    "def SelectExcelCallBack():\n",
    "    global Names, data\n",
    "    file = filedialog.askopenfilename(initialdir=\"\", title=\"Select Excel File...\",\n",
    "                                      filetypes=[\n",
    "                                          (\"xlsx files\", \"*.xlsx\"), (\"xls files\", \"*.xls\"), (\"All files\", \"*.*\")])\n",
    "    data = pd.read_excel(file, engine='openpyxl')\n",
    "    Names = pd.DataFrame(data, columns=['NAME'])\n",
    "    print(Names)\n",
    "\n",
    "\n",
    "def photosCallBack():\n",
    "    global files, Attandees, data\n",
    "    files = filedialog.askopenfilenames(initialdir=\"\", title=\"Select Images...\",\n",
    "                                        filetypes=[\n",
    "                                            (\"jpeg files\", \"*.jpeg\"), (\"png files\", \"*.png\"), (\"jpg files\", \"*.jpg\"),\n",
    "                                            (\"All files\", \"*.*\")])\n",
    "\n",
    "    convertImages = convertImagesToText(files)\n",
    "\n",
    "    for i in convertImages:\n",
    "        for j in i:\n",
    "            if j:\n",
    "                Attandees.append(''.join(\n",
    "                    k.replace('-', '').replace('.', ' ').replace('#', '').lower() for k in j if not k.isdigit()))\n",
    "    print(Attandees)\n",
    "    Attandees = [i for j, i in enumerate(Attandees) if i not in Attandees[:j]]\n",
    "    print(Attandees)\n",
    "\n",
    "    print(f\"Students in Screenshots: {len(Attandees)}\")\n",
    "    present = checkAttandance()\n",
    "    data['Status'] = present\n",
    "\n",
    "    data.to_excel(desktop + '/Attendees.xlsx')\n",
    "    print(data)\n",
    "\n",
    "\n",
    "B = tk.Button(root, text=\"Select Photos\", command=photosCallBack, width=20, height=7, bg='white')\n",
    "label = tk.Label(root, textvariable=\"Select Pics\")\n",
    "B1 = tk.Button(root, text=\"Select Excel Sheet\", command=SelectExcelCallBack, width=20, height=7, bg='blue', fg='white')\n",
    "exit = tk.Button(root, text=\"QUIT\", command=root.destroy, width=10, height=2, bg='red', fg='white')\n",
    "B1.grid(column=3, row=2)\n",
    "B.grid(column=3, row=6)\n",
    "exit.grid(column=5, row=6)\n",
    "\n",
    "root.mainloop()"
   ]
  },
  {
   "cell_type": "code",
   "execution_count": null,
   "metadata": {},
   "outputs": [],
   "source": [
    "conda install -c conda-forge tesseract"
   ]
  },
  {
   "cell_type": "code",
   "execution_count": null,
   "metadata": {},
   "outputs": [],
   "source": [
    "# You can confirm that tesseract is installed in your virtual environment by running the command below. The command calls up the tesseract help screen.\n",
    "tesseract -h"
   ]
  },
  {
   "cell_type": "code",
   "execution_count": null,
   "metadata": {},
   "outputs": [],
   "source": [
    "# Make note of this file path. We need the file path to use pytesseract in our Python program.\n",
    "where tesseract"
   ]
  }
 ]
}